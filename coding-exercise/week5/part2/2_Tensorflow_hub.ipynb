{
  "nbformat": 4,
  "nbformat_minor": 0,
  "metadata": {
    "colab": {
      "name": "2. Tensorflow_hub.ipynb",
      "provenance": [],
      "collapsed_sections": [],
      "include_colab_link": true
    },
    "kernelspec": {
      "display_name": "Python 3",
      "language": "python",
      "name": "python3"
    },
    "language_info": {
      "codemirror_mode": {
        "name": "ipython",
        "version": 3
      },
      "file_extension": ".py",
      "mimetype": "text/x-python",
      "name": "python",
      "nbconvert_exporter": "python",
      "pygments_lexer": "ipython3",
      "version": "3.7.6"
    }
  },
  "cells": [
    {
      "cell_type": "markdown",
      "metadata": {
        "id": "view-in-github",
        "colab_type": "text"
      },
      "source": [
        "<a href=\"https://colab.research.google.com/github/Aye-Nyein-Thaw/TensorFlow-Beginner/blob/main/coding-exercise/week%205/part2/2_Tensorflow_hub.ipynb\" target=\"_parent\"><img src=\"https://colab.research.google.com/assets/colab-badge.svg\" alt=\"Open In Colab\"/></a>"
      ]
    },
    {
      "cell_type": "code",
      "metadata": {
        "id": "_fpkEI3u3-fI"
      },
      "source": [
        "import tensorflow as tf"
      ],
      "execution_count": null,
      "outputs": []
    },
    {
      "cell_type": "markdown",
      "metadata": {
        "id": "zdmZxyjK3-fO"
      },
      "source": [
        "\n",
        "\n",
        "## Retrieve images for testing"
      ]
    },
    {
      "cell_type": "code",
      "metadata": {
        "id": "e5DL0pRH3-fP"
      },
      "source": [
        "!wget -q -O lemon.jpg --no-check-certificate \"https://docs.google.com/uc?export=download&id=1JSgQ9qgi9nO9t2aGEk-zA6lzYNUT9vZJ\"\n",
        "!wget -q -O viaduct.jpg --no-check-certificate \"https://docs.google.com/uc?export=download&id=1sQzMKmyCR5Tur19lP3n1IIlEMG_o6Mct\"\n",
        "!wget -q -O water_tower.jpg --no-check-certificate \"https://docs.google.com/uc?export=download&id=1cPAQD1O6mAiMbg0fmG5HIk8OuO_BSC6J\""
      ],
      "execution_count": null,
      "outputs": []
    },
    {
      "cell_type": "markdown",
      "metadata": {
        "id": "UV6SjNWx3-fU"
      },
      "source": [
        "## ImageNet labels"
      ]
    },
    {
      "cell_type": "code",
      "metadata": {
        "id": "EUXKtYRz3-fV"
      },
      "source": [
        "!wget -O labels.txt --quiet https://storage.googleapis.com/download.tensorflow.org/data/ImageNetLabels.txt\n",
        "\n",
        "# read the categories text file\n",
        "with open('labels.txt', 'r') as txt_file:\n",
        "    categories = txt_file.read().splitlines()\n",
        "    \n",
        "# number of labels\n",
        "num_class = len(categories)\n",
        "print(num_class)"
      ],
      "execution_count": null,
      "outputs": []
    },
    {
      "cell_type": "markdown",
      "metadata": {
        "id": "oL4Ptp__3-fa"
      },
      "source": [
        "## Google's Mobilenet v1 model"
      ]
    },
    {
      "cell_type": "code",
      "metadata": {
        "id": "gDDXU6Ce3-fb"
      },
      "source": [
        "import tensorflow_hub as hub\n",
        "from tensorflow.keras import Sequential\n",
        "\n",
        "module_url = 'https://tfhub.dev/google/imagenet/mobilenet_v1_050_160/classification/4'\n",
        "\n",
        "model = Sequential([\n",
        "    hub.KerasLayer(module_url)\n",
        "])\n",
        "\n",
        "model.build( input_shape = [None, 160, 160, 3])"
      ],
      "execution_count": null,
      "outputs": []
    },
    {
      "cell_type": "code",
      "metadata": {
        "id": "XxxhP94G3-fl"
      },
      "source": [
        "# Import and preprocess 3 sample ImageNet images\n",
        "from tensorflow.keras.preprocessing.image import load_img, img_to_array\n",
        "import numpy as np\n",
        "\n",
        "lemon_img = load_img(\"lemon.jpg\", target_size=(160, 160))\n",
        "viaduct_img = load_img(\"viaduct.jpg\", target_size=(160, 160))\n",
        "water_tower_img = load_img(\"water_tower.jpg\", target_size=(160, 160))\n",
        "\n",
        "# convert image to array\n",
        "img_arr = img_to_array(water_tower_img)\n",
        "\n",
        "# normalize\n",
        "img_arr = img_arr / 255.0\n",
        "\n",
        "# expand_dimensions\n",
        "img_arr = img_arr[np.newaxis, ...]\n",
        "\n",
        "# predict\n",
        "predictions = model.predict(img_arr)\n",
        "\n",
        "# get top 5 positions\n",
        "k = 5\n",
        "sort = np.argsort(-predictions[0])\n",
        "top_k = sort[:k]\n",
        "\n",
        "# display top 5\n",
        "for i in top_k:\n",
        "    print('{} = {}'.format(categories[i], predictions[0][i]))"
      ],
      "execution_count": null,
      "outputs": []
    },
    {
      "cell_type": "markdown",
      "metadata": {
        "id": "rdqGA5iN3-fr"
      },
      "source": [
        "## Function to display top 5 predictions"
      ]
    },
    {
      "cell_type": "code",
      "metadata": {
        "id": "acfPXr-73-fs"
      },
      "source": [
        "import pandas as pd\n",
        "\n",
        "def get_top_5_predictions(img):\n",
        "    x = img_to_array(img)[np.newaxis, ...] / 255.0\n",
        "    preds = model.predict(x)\n",
        "    top_preds = pd.DataFrame(columns=['prediction'],\n",
        "                             index=np.arange(5)+1)\n",
        "    sorted_index = np.argsort(-preds[0])\n",
        "    for i in range(5):\n",
        "        ith_pred = categories[sorted_index[i]]\n",
        "        top_preds.loc[i+1, 'prediction'] = ith_pred\n",
        "            \n",
        "    return top_preds"
      ],
      "execution_count": null,
      "outputs": []
    },
    {
      "cell_type": "code",
      "metadata": {
        "id": "DK0Hbsnu3-fw"
      },
      "source": [
        "# top 5 predictions for lemon image\n",
        "display(lemon_img)\n",
        "get_top_5_predictions(lemon_img)"
      ],
      "execution_count": null,
      "outputs": []
    },
    {
      "cell_type": "code",
      "metadata": {
        "id": "0SpmzMmU3-f1"
      },
      "source": [
        "# top 5 predictions for viaduct image\n",
        "display(viaduct_img)\n",
        "get_top_5_predictions(viaduct_img)"
      ],
      "execution_count": null,
      "outputs": []
    },
    {
      "cell_type": "code",
      "metadata": {
        "id": "1lB37h7X3-f5"
      },
      "source": [
        "# top 5 predictions for water tower image\n",
        "display(water_tower_img)\n",
        "get_top_5_predictions(water_tower_img)"
      ],
      "execution_count": null,
      "outputs": []
    },
    {
      "cell_type": "markdown",
      "metadata": {
        "id": "E5AuM7Ss3-f9"
      },
      "source": [
        "## Let's test with our own image"
      ]
    },
    {
      "cell_type": "code",
      "metadata": {
        "id": "GRKCorQp3-f-"
      },
      "source": [
        "# load your own image\n",
        "\n",
        "filepath = # path to your image file, example - 'image/lion.jpg'\n",
        "my_image = load_img(filepath, target_size=(160, 160))\n",
        "img_arr = img_to_array(my_image)\n",
        "\n",
        "# normalize\n",
        "img_arr = img_arr / 255.0\n",
        "\n",
        "# expand_dimensions\n",
        "img_arr = img_arr[np.newaxis, ...]\n",
        "\n",
        "# predict\n",
        "predictions = model.predict(img_arr)\n",
        "\n",
        "# get top 5 positions\n",
        "k = 5\n",
        "sort = np.argsort(-predictions[0])\n",
        "top_k = sort[:k]\n",
        "\n",
        "# display top 5\n",
        "for i in top_k:\n",
        "    print(categories[i],' =' ,predictions[0][i])\n",
        "\n",
        "display(my_image)"
      ],
      "execution_count": null,
      "outputs": []
    },
    {
      "cell_type": "markdown",
      "metadata": {
        "id": "b84SSNSW3-gD"
      },
      "source": [
        "## Another way to load hub module"
      ]
    },
    {
      "cell_type": "code",
      "metadata": {
        "id": "L8KzDZ8W3-gD"
      },
      "source": [
        "# load module\n",
        "module = hub.load(module_url)\n",
        "\n",
        "# predict\n",
        "predictions = module(img_arr)[0]\n",
        "\n",
        "# top 5 predictions\n",
        "top_k_pred_values, top_k_indices = tf.math.top_k(predictions, k=5)\n",
        "top_k_pred_values = top_k_pred_values.numpy()\n",
        "top_k_indices = top_k_indices.numpy()\n",
        "\n",
        "# Display top 5 predictions\n",
        "\n",
        "for probability, index in zip(top_k_pred_values, top_k_indices):\n",
        "    print( categories[index], probability)"
      ],
      "execution_count": null,
      "outputs": []
    }
  ]
}
