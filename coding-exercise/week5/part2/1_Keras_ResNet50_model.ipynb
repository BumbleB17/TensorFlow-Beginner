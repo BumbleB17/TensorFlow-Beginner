{
  "nbformat": 4,
  "nbformat_minor": 0,
  "metadata": {
    "colab": {
      "name": "1. Keras ResNet50 model.ipynb",
      "provenance": [],
      "collapsed_sections": [],
      "include_colab_link": true
    },
    "kernelspec": {
      "display_name": "Python 3",
      "language": "python",
      "name": "python3"
    },
    "language_info": {
      "codemirror_mode": {
        "name": "ipython",
        "version": 3
      },
      "file_extension": ".py",
      "mimetype": "text/x-python",
      "name": "python",
      "nbconvert_exporter": "python",
      "pygments_lexer": "ipython3",
      "version": "3.7.6"
    }
  },
  "cells": [
    {
      "cell_type": "markdown",
      "metadata": {
        "id": "view-in-github",
        "colab_type": "text"
      },
      "source": [
        "<a href=\"https://colab.research.google.com/github/Aye-Nyein-Thaw/TensorFlow-Beginner/blob/main/coding-exercise/week5/part2/1_Keras_ResNet50_model.ipynb\" target=\"_parent\"><img src=\"https://colab.research.google.com/assets/colab-badge.svg\" alt=\"Open In Colab\"/></a>"
      ]
    },
    {
      "cell_type": "markdown",
      "metadata": {
        "id": "SN1891Ws3-PI"
      },
      "source": [
        "## Load Keras pre-trained ResNet50 model"
      ]
    },
    {
      "cell_type": "code",
      "metadata": {
        "id": "6up1sfcK3-PK"
      },
      "source": [
        "from tensorflow.keras.applications import ResNet50\n",
        "\n",
        "model = ResNet50(weights='imagenet')\n",
        "\n",
        "# inspect input and output layers\n",
        "model.summary()"
      ],
      "execution_count": null,
      "outputs": []
    },
    {
      "cell_type": "markdown",
      "metadata": {
        "id": "37FtFw5B3-PQ"
      },
      "source": [
        "## Load testing images"
      ]
    },
    {
      "cell_type": "code",
      "metadata": {
        "id": "V8Pz0j_63-PQ"
      },
      "source": [
        "from tensorflow.keras.preprocessing.image import load_img\n",
        "\n",
        "# load and preprocess data\n",
        "# data shape must match model input shape\n",
        "\n",
        "!wget -q -O lemon.jpg --no-check-certificate \"https://docs.google.com/uc?export=download&id=1JSgQ9qgi9nO9t2aGEk-zA6lzYNUT9vZJ\"\n",
        "!wget -q -O viaduct.jpg --no-check-certificate \"https://docs.google.com/uc?export=download&id=1sQzMKmyCR5Tur19lP3n1IIlEMG_o6Mct\"\n",
        "!wget -q -O water_tower.jpg --no-check-certificate \"https://docs.google.com/uc?export=download&id=1cPAQD1O6mAiMbg0fmG5HIk8OuO_BSC6J\"\n",
        "\n",
        "lemon = load_img('lemon.jpg', target_size = (224, 224))\n",
        "viaduct = load_img('viaduct.jpg', target_size = (224, 224))\n",
        "water_tower = load_img('water_tower.jpg', target_size = (224, 224))"
      ],
      "execution_count": null,
      "outputs": []
    },
    {
      "cell_type": "code",
      "metadata": {
        "id": "EuaqplPt3-PT"
      },
      "source": [
        "from tensorflow.keras.preprocessing.image import img_to_array\n",
        "from tensorflow.keras.applications.resnet50 import preprocess_input, decode_predictions\n",
        "import numpy as np\n",
        "import pandas as pd"
      ],
      "execution_count": null,
      "outputs": []
    },
    {
      "cell_type": "code",
      "metadata": {
        "id": "P1XRcnyt3-PW"
      },
      "source": [
        "# expand dimension\n",
        "img = img_to_array(lemon)[np.newaxis,...]\n",
        "img = preprocess_input(img)\n",
        "\n",
        "# 1000 probabilities for lemon image\n",
        "predictions = model.predict(img)\n",
        "\n",
        "# get top 5 predictions\n",
        "predictions = decode_predictions(predictions, top=5)\n",
        "\n",
        "# display top 5 predictions\n",
        "for _, item, prob in predictions[0]:\n",
        "        print('{} = {probability:0.1f}%'.format(item, probability= prob * 100))"
      ],
      "execution_count": null,
      "outputs": []
    },
    {
      "cell_type": "markdown",
      "metadata": {
        "id": "WgHsWWuy3-PY"
      },
      "source": [
        "## Function to display top 5 predictions"
      ]
    },
    {
      "cell_type": "code",
      "metadata": {
        "id": "oxcPfLR93-PZ"
      },
      "source": [
        "# function to display data\n",
        "def get_top_5_predictions(img):\n",
        "    x = img_to_array(img)[np.newaxis, ...]\n",
        "    x = preprocess_input(x)\n",
        "    preds = decode_predictions(model.predict(x), top=5)\n",
        "    \n",
        "    top_preds = pd.DataFrame(columns=['prediction', 'probability'],\n",
        "                             index=np.arange(5)+1)\n",
        "    for i in range(5):\n",
        "        top_preds.loc[i+1, 'prediction'] = preds[0][i][1]\n",
        "        top_preds.loc[i+1, 'probability'] = preds[0][i][2] \n",
        "        \n",
        "    return top_preds"
      ],
      "execution_count": null,
      "outputs": []
    },
    {
      "cell_type": "code",
      "metadata": {
        "id": "sygYhS_Z3-Pg"
      },
      "source": [
        "# top 5 predictions for lemon image\n",
        "import matplotlib.pyplot as plt\n",
        "\n",
        "plt.imshow(lemon)\n",
        "get_top_5_predictions(lemon)"
      ],
      "execution_count": null,
      "outputs": []
    },
    {
      "cell_type": "code",
      "metadata": {
        "id": "rmyaWoKA3-Pl"
      },
      "source": [
        "# top 5 predictions for viaduct image\n",
        "\n",
        "plt.imshow(viaduct)\n",
        "get_top_5_predictions(viaduct)"
      ],
      "execution_count": null,
      "outputs": []
    },
    {
      "cell_type": "code",
      "metadata": {
        "id": "gDk3I8WL3-Pp"
      },
      "source": [
        "# top 5 predictions for water tower image\n",
        "\n",
        "plt.imshow(water_tower)\n",
        "get_top_5_predictions(water_tower)"
      ],
      "execution_count": null,
      "outputs": []
    },
    {
      "cell_type": "markdown",
      "metadata": {
        "id": "fKXQzEdn3-Pt"
      },
      "source": [
        "## Let's test with our own image"
      ]
    },
    {
      "cell_type": "code",
      "metadata": {
        "id": "_xf5orWE3-Pt"
      },
      "source": [
        "# load your own image\n",
        "\n",
        "filepath = # path to your image file, example - 'image/lion.jpg'\n",
        "test_img = load_img(filepath, target_size = (224, 224))\n",
        "\n",
        "# image to array\n",
        "test_img = img_to_array(test_img)\n",
        "\n",
        "# expand dimension to macth model input shape\n",
        "test_img = test_img[np.newaxis, ...]\n",
        "\n",
        "# preprocess input\n",
        "test_img = preprocess_input(test_img)\n",
        "\n",
        "# get prediction\n",
        "prediction = model.predict(test_img)\n",
        "\n",
        "# get top 5 probabilities\n",
        "top_five =  decode_predictions(prediction, top=5)\n",
        "\n",
        "display(test_img)\n",
        "\n",
        "for _, pred, prob in top_five[0]:\n",
        "    print('{} = {prob:0.2f} %'.format(pred, prob = prob * 100))"
      ],
      "execution_count": null,
      "outputs": []
    },
    {
      "cell_type": "markdown",
      "metadata": {
        "id": "UMMYbG1O3-Pw"
      },
      "source": [
        "## Let's test another image"
      ]
    },
    {
      "cell_type": "code",
      "metadata": {
        "id": "ITXzHiCc3-Pw"
      },
      "source": [
        "# your image file\n",
        "filepath = # path to your image file, example - 'image/lion.jpg'\n",
        "lion_img = load_img(filepath, target_size = (224, 224))\n",
        "\n",
        "display(lion_img)\n",
        "get_top_5_predictions(lion_img)"
      ],
      "execution_count": null,
      "outputs": []
    }
  ]
}