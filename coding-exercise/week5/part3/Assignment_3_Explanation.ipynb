{
  "nbformat": 4,
  "nbformat_minor": 0,
  "metadata": {
    "colab": {
      "name": "Assignment 3 Explanation.ipynb",
      "provenance": [],
      "collapsed_sections": [],
      "include_colab_link": true
    },
    "kernelspec": {
      "display_name": "Python 3",
      "language": "python",
      "name": "python3"
    },
    "language_info": {
      "codemirror_mode": {
        "name": "ipython",
        "version": 3
      },
      "file_extension": ".py",
      "mimetype": "text/x-python",
      "name": "python",
      "nbconvert_exporter": "python",
      "pygments_lexer": "ipython3",
      "version": "3.7.6"
    }
  },
  "cells": [
    {
      "cell_type": "markdown",
      "metadata": {
        "id": "view-in-github",
        "colab_type": "text"
      },
      "source": [
        "<a href=\"https://colab.research.google.com/github/Aye-Nyein-Thaw/TensorFlow-Beginner/blob/main/coding-exercise/week5/part3/Assignment_3_Explanation.ipynb\" target=\"_parent\"><img src=\"https://colab.research.google.com/assets/colab-badge.svg\" alt=\"Open In Colab\"/></a>"
      ]
    },
    {
      "cell_type": "code",
      "metadata": {
        "id": "czhXECYQH6Kb"
      },
      "source": [
        "from tensorflow.keras import Sequential\n",
        "from tensorflow.keras.layers import Dense, Flatten, Conv2D, MaxPooling2D, Dropout"
      ],
      "execution_count": 1,
      "outputs": []
    },
    {
      "cell_type": "code",
      "metadata": {
        "id": "_1GHPlw5H6Kf"
      },
      "source": [
        "# Without Bias\n",
        "\n",
        "model = Sequential([\n",
        "    Dense(5, input_shape = (4,), use_bias = False),\n",
        "    Dense(3, use_bias = False)\n",
        "])\n",
        "\n",
        "model.summary()"
      ],
      "execution_count": null,
      "outputs": []
    },
    {
      "cell_type": "code",
      "metadata": {
        "id": "lo9a0GZkH6Kj"
      },
      "source": [
        "# With Bias\n",
        "\n",
        "model = Sequential([\n",
        "    Dense(5, input_shape = (4,)),\n",
        "    Dense(3)\n",
        "])\n",
        "\n",
        "model.summary()"
      ],
      "execution_count": null,
      "outputs": []
    },
    {
      "cell_type": "code",
      "metadata": {
        "id": "s98k9tUgH6Km"
      },
      "source": [
        "# With Bias\n",
        "\n",
        "model = Sequential([\n",
        "    Dense(3, input_shape = (3,)),\n",
        "    Dense(1)\n",
        "])\n",
        "\n",
        "model.summary()"
      ],
      "execution_count": null,
      "outputs": []
    },
    {
      "cell_type": "code",
      "metadata": {
        "id": "KXh3NFbZH6Kp"
      },
      "source": [
        "# Flatten Layer\n",
        "\n",
        "model = Sequential([\n",
        "    Flatten(input_shape = (4,4)),\n",
        "    Dense(4, use_bias = False),\n",
        "    Dense(2, use_bias = False)\n",
        "])\n",
        "\n",
        "model.summary()"
      ],
      "execution_count": null,
      "outputs": []
    },
    {
      "cell_type": "code",
      "metadata": {
        "id": "GVxB3I70H6Kt"
      },
      "source": [
        "# CNN Model (with Bias)\n",
        "\n",
        "model = Sequential([\n",
        "    \n",
        "        Conv2D(16, (5,5), activation = 'relu', name = 'Conv_1', input_shape = (28,28,1)),\n",
        "        MaxPooling2D(2,2),\n",
        "        Conv2D(32, (5,5), activation = 'relu', name = 'Conv_2'),\n",
        "        MaxPooling2D(2,2),\n",
        "    \n",
        "        Flatten(),\n",
        "        Dense(128,activation = 'relu', name = 'fc_3'),\n",
        "        Dropout(0.3),\n",
        "        Dense(10, activation = 'softmax', name = 'fc_4')\n",
        "\n",
        "])\n",
        "\n",
        "model.summary()"
      ],
      "execution_count": null,
      "outputs": []
    }
  ]
}