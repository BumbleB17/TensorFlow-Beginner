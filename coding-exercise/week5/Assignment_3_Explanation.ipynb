{
  "nbformat": 4,
  "nbformat_minor": 0,
  "metadata": {
    "colab": {
      "name": "Assignment 3 Explanation.ipynb",
      "provenance": [],
      "collapsed_sections": [],
      "include_colab_link": true
    },
    "kernelspec": {
      "display_name": "Python 3",
      "language": "python",
      "name": "python3"
    },
    "language_info": {
      "codemirror_mode": {
        "name": "ipython",
        "version": 3
      },
      "file_extension": ".py",
      "mimetype": "text/x-python",
      "name": "python",
      "nbconvert_exporter": "python",
      "pygments_lexer": "ipython3",
      "version": "3.7.6"
    }
  },
  "cells": [
    {
      "cell_type": "markdown",
      "metadata": {
        "id": "view-in-github",
        "colab_type": "text"
      },
      "source": [
        "<a href=\"https://colab.research.google.com/github/Aye-Nyein-Thaw/TensorFlow-Beginner/blob/main/coding-exercise/week5/Assignment_3_Explanation.ipynb\" target=\"_parent\"><img src=\"https://colab.research.google.com/assets/colab-badge.svg\" alt=\"Open In Colab\"/></a>"
      ]
    },
    {
      "cell_type": "code",
      "metadata": {
        "id": "BmXJVtDRL2KY"
      },
      "source": [
        "from tensorflow.keras import Sequential\n",
        "from tensorflow.keras.layers import Dense, Flatten, Conv2D, MaxPooling2D, Dropout"
      ],
      "execution_count": 1,
      "outputs": []
    },
    {
      "cell_type": "code",
      "metadata": {
        "id": "CBCeaCqpL2Kd"
      },
      "source": [
        "# Example 1 - without Bias\n",
        "\n",
        "model = Sequential([\n",
        "    Dense(5, input_shape = (4,), use_bias = False),\n",
        "    Dense(3, use_bias = False)\n",
        "])\n",
        "\n",
        "model.summary()"
      ],
      "execution_count": null,
      "outputs": []
    },
    {
      "cell_type": "code",
      "metadata": {
        "id": "QN4i0PkGL2Kl"
      },
      "source": [
        "# Example 1 - with Bias\n",
        "\n",
        "model = Sequential([\n",
        "    Dense(5, input_shape = (4,)),\n",
        "    Dense(3)\n",
        "])\n",
        "\n",
        "model.summary()"
      ],
      "execution_count": null,
      "outputs": []
    },
    {
      "cell_type": "code",
      "metadata": {
        "id": "1J-Yt0h-L2Ko"
      },
      "source": [
        "# Example 2 - with Bias\n",
        "\n",
        "model = Sequential([\n",
        "    Dense(3, input_shape = (3,)),\n",
        "    Dense(1)\n",
        "])\n",
        "\n",
        "model.summary()"
      ],
      "execution_count": null,
      "outputs": []
    },
    {
      "cell_type": "code",
      "metadata": {
        "id": "Ic_EZIeIL2Kr"
      },
      "source": [
        "# Example 3 - Flatten Layer (without Bias)\n",
        "\n",
        "model = Sequential([\n",
        "    Flatten(input_shape = (4,4)),\n",
        "    Dense(4, use_bias = False),\n",
        "    Dense(2, use_bias = False)\n",
        "])\n",
        "\n",
        "model.summary()"
      ],
      "execution_count": null,
      "outputs": []
    },
    {
      "cell_type": "code",
      "metadata": {
        "id": "b2gOFLWdL2Ku"
      },
      "source": [
        "# Example 4 - CNN Model (with Bias)\n",
        "\n",
        "model = Sequential([\n",
        "    \n",
        "        Conv2D(16, (5,5), activation = 'relu', name = 'Conv_1', input_shape = (28,28,1)),\n",
        "        MaxPooling2D(2,2),\n",
        "        Conv2D(32, (5,5), activation = 'relu', name = 'Conv_2'),\n",
        "        MaxPooling2D(2,2),\n",
        "    \n",
        "        Flatten(),\n",
        "        Dense(128,activation = 'relu', name = 'fc_3'),\n",
        "        Dropout(0.3),\n",
        "        Dense(10, activation = 'softmax', name = 'fc_4')\n",
        "\n",
        "])\n",
        "\n",
        "model.summary()"
      ],
      "execution_count": null,
      "outputs": []
    }
  ]
}