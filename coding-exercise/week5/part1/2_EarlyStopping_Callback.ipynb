{
  "nbformat": 4,
  "nbformat_minor": 0,
  "metadata": {
    "colab": {
      "name": "2_EarlyStopping_Callback.ipynb",
      "provenance": [],
      "collapsed_sections": [],
      "include_colab_link": true
    },
    "kernelspec": {
      "display_name": "Python 3",
      "language": "python",
      "name": "python3"
    },
    "language_info": {
      "codemirror_mode": {
        "name": "ipython",
        "version": 3
      },
      "file_extension": ".py",
      "mimetype": "text/x-python",
      "name": "python",
      "nbconvert_exporter": "python",
      "pygments_lexer": "ipython3",
      "version": "3.7.6"
    }
  },
  "cells": [
    {
      "cell_type": "markdown",
      "metadata": {
        "id": "view-in-github",
        "colab_type": "text"
      },
      "source": [
        "<a href=\"https://colab.research.google.com/github/Aye-Nyein-Thaw/TensorFlow-Beginner/blob/main/coding-exercise/week5/part1/2_EarlyStopping_Callback.ipynb\" target=\"_parent\"><img src=\"https://colab.research.google.com/assets/colab-badge.svg\" alt=\"Open In Colab\"/></a>"
      ]
    },
    {
      "cell_type": "markdown",
      "metadata": {
        "id": "TzeFhsNEV4cE"
      },
      "source": [
        "# EarlyStopping Callback"
      ]
    },
    {
      "cell_type": "code",
      "metadata": {
        "id": "FhHJcvK8QV4Y"
      },
      "source": [
        "import tensorflow as tf\n",
        "from tensorflow.keras.models import Sequential\n",
        "from tensorflow.keras.layers import Dense"
      ],
      "execution_count": null,
      "outputs": []
    },
    {
      "cell_type": "markdown",
      "metadata": {
        "id": "w40GmqR2V4cJ"
      },
      "source": [
        "## Load diabetes dataset"
      ]
    },
    {
      "cell_type": "code",
      "metadata": {
        "id": "HgqwcjKuV4cJ"
      },
      "source": [
        "from sklearn.datasets import load_diabetes\n",
        "\n",
        "diabetes_dataset = load_diabetes()\n",
        "print(diabetes_dataset['DESCR'])\n",
        "\n",
        "data = diabetes_dataset['data']\n",
        "targets = diabetes_dataset['target']\n",
        "\n",
        "# Normalise the target data (this will make clearer training curves)\n",
        "targets = (targets - targets.mean(axis = 0)) / targets.std()\n",
        "\n",
        "# Split the data into train and test sets\n",
        "from sklearn.model_selection import train_test_split\n",
        "\n",
        "x_train, x_test, y_train, y_test = train_test_split(data, targets, test_size = 0.1)\n",
        "\n",
        "print(x_train.shape)\n",
        "print(x_test.shape)\n",
        "print(y_train.shape)\n",
        "print(y_test.shape)"
      ],
      "execution_count": null,
      "outputs": []
    },
    {
      "cell_type": "markdown",
      "metadata": {
        "id": "uEvu0hj8V4cN"
      },
      "source": [
        "## Define functions"
      ]
    },
    {
      "cell_type": "code",
      "metadata": {
        "id": "UwLJc3lAV4cO"
      },
      "source": [
        "# Define helper functions\n",
        "\n",
        "def evaluate(model, x_test, y_test):\n",
        "    test_loss, test_acc = model.evaluate(x=x_test, y=y_test, verbose=0)\n",
        "    print('accuracy = {acc:0.2f}%, Loss = {loss:0.2f}'.format(acc = test_acc * 100, loss = test_loss))\n",
        "    \n",
        "def get_new_model():\n",
        "    model = Sequential([\n",
        "        Dense(128, activation = 'relu', input_shape = (x_train.shape[1],)),\n",
        "        Dense(128, activation = 'relu'),\n",
        "        Dense(128, activation = 'relu'),\n",
        "        Dense(128, activation = 'relu'),\n",
        "        Dense(128, activation = 'relu'),\n",
        "        Dense(1)\n",
        "    ])\n",
        "    model.compile(optimizer='adam',\n",
        "                  loss='mse',\n",
        "                  metrics=['mae'])\n",
        "    return model"
      ],
      "execution_count": null,
      "outputs": []
    },
    {
      "cell_type": "markdown",
      "metadata": {
        "id": "bJ8ANbfYV4cR"
      },
      "source": [
        "## Train the model"
      ]
    },
    {
      "cell_type": "code",
      "metadata": {
        "id": "_EOcltOKV4cR"
      },
      "source": [
        "## Create new model and train\n",
        "model = get_new_model()\n",
        "\n",
        "history = model.fit(x_train, y_train,\n",
        "                    validation_data = (x_test, y_test),\n",
        "                    epochs = 100)"
      ],
      "execution_count": null,
      "outputs": []
    },
    {
      "cell_type": "markdown",
      "metadata": {
        "id": "_Gz-T4wXV4cY"
      },
      "source": [
        "## Plot the learning curves"
      ]
    },
    {
      "cell_type": "code",
      "metadata": {
        "id": "eK18G2pWV4cZ"
      },
      "source": [
        "import matplotlib.pyplot as plt\n",
        "%matplotlib inline\n",
        "\n",
        "plt.plot(history.history['loss'])\n",
        "plt.plot(history.history['val_loss'])\n",
        "plt.title('Loss vs. epochs')\n",
        "plt.ylabel('Loss')\n",
        "plt.xlabel('Epoch')\n",
        "plt.legend(['Training', 'Validation'], loc='upper right')\n",
        "plt.show()"
      ],
      "execution_count": null,
      "outputs": []
    },
    {
      "cell_type": "markdown",
      "metadata": {
        "id": "tzo7AImqV4cc"
      },
      "source": [
        "## Early Stopping callback"
      ]
    },
    {
      "cell_type": "code",
      "metadata": {
        "id": "M05veB-cV4cd"
      },
      "source": [
        "from tensorflow.keras.callbacks import EarlyStopping\n",
        "\n",
        "es_callback = EarlyStopping(patience = 2,\n",
        "                           monitor = 'val_loss')"
      ],
      "execution_count": null,
      "outputs": []
    },
    {
      "cell_type": "code",
      "metadata": {
        "id": "-qbzrMITV4cg"
      },
      "source": [
        "## Create new model and train\n",
        "model = get_new_model()\n",
        "\n",
        "history = model.fit(x_train, y_train,\n",
        "                    validation_data = (x_test, y_test),\n",
        "                    epochs = 100,\n",
        "                   callbacks = [es_callback])"
      ],
      "execution_count": null,
      "outputs": []
    }
  ]
}