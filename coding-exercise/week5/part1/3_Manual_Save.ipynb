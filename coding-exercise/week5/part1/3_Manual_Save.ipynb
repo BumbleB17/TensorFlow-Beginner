{
  "nbformat": 4,
  "nbformat_minor": 0,
  "metadata": {
    "colab": {
      "name": "3_Manual_Save.ipynb",
      "provenance": [],
      "collapsed_sections": [],
      "include_colab_link": true
    },
    "kernelspec": {
      "display_name": "Python 3",
      "language": "python",
      "name": "python3"
    },
    "language_info": {
      "codemirror_mode": {
        "name": "ipython",
        "version": 3
      },
      "file_extension": ".py",
      "mimetype": "text/x-python",
      "name": "python",
      "nbconvert_exporter": "python",
      "pygments_lexer": "ipython3",
      "version": "3.7.6"
    }
  },
  "cells": [
    {
      "cell_type": "markdown",
      "metadata": {
        "id": "view-in-github",
        "colab_type": "text"
      },
      "source": [
        "<a href=\"https://colab.research.google.com/github/Aye-Nyein-Thaw/TensorFlow-Beginner/blob/main/coding-exercise/week5/part1/3_Manual_Save.ipynb\" target=\"_parent\"><img src=\"https://colab.research.google.com/assets/colab-badge.svg\" alt=\"Open In Colab\"/></a>"
      ]
    },
    {
      "cell_type": "markdown",
      "metadata": {
        "id": "1bdIZSLBV56q"
      },
      "source": [
        "# Manual Save"
      ]
    },
    {
      "cell_type": "code",
      "metadata": {
        "id": "FhHJcvK8QV4Y"
      },
      "source": [
        "import tensorflow as tf\n",
        "from tensorflow.keras.models import Sequential\n",
        "from tensorflow.keras.layers import Dense, Flatten, Conv2D, MaxPooling2D"
      ],
      "execution_count": null,
      "outputs": []
    },
    {
      "cell_type": "code",
      "metadata": {
        "id": "dQw7Jk7YV56y"
      },
      "source": [
        "# Prepare Data\n",
        "(x_train, y_train), (x_test, y_test) = tf.keras.datasets.cifar10.load_data()\n",
        "x_train = x_train / 255.0\n",
        "x_test = x_test / 255.0\n",
        "\n",
        "# Use smaller subset to speed things up\n",
        "x_train = x_train[:10000]\n",
        "y_train = y_train[:10000]\n",
        "x_test = x_test[:10000]\n",
        "y_test = y_test[:10000]\n",
        "\n",
        "# Define helper functions\n",
        "def evaluate(model, x_test, y_test):\n",
        "    test_loss, test_acc = model.evaluate(x=x_test, y=y_test, verbose=0)\n",
        "    print('accuracy = {acc:0.2f}% , Loss = {loss:0.2f}'.format(acc = test_acc * 100, loss = test_loss))\n",
        "    \n",
        "def get_new_model():\n",
        "    model = Sequential([\n",
        "        Conv2D(filters=16, input_shape=(32, 32, 3), kernel_size=(3, 3), \n",
        "               activation='relu', name='conv_1'),\n",
        "        Conv2D(filters=8, kernel_size=(3, 3), activation='relu', name='conv_2'),\n",
        "        MaxPooling2D(pool_size=(4, 4), name='pool_1'),\n",
        "        Flatten(name='flatten'),\n",
        "        Dense(units=32, activation='relu', name='dense_1'),\n",
        "        Dense(units=10, activation='softmax', name='dense_2')\n",
        "    ])\n",
        "    model.compile(optimizer='adam',\n",
        "                  loss='sparse_categorical_crossentropy',\n",
        "                  metrics=['accuracy'])\n",
        "    return model"
      ],
      "execution_count": null,
      "outputs": []
    },
    {
      "cell_type": "code",
      "metadata": {
        "id": "XhXWYuomV563"
      },
      "source": [
        "model = get_new_model()\n",
        "model.summary()\n",
        "\n",
        "evaluate(model, x_test, y_test)\n",
        "\n",
        "history = model.fit(x_train, y_train, epochs = 10)"
      ],
      "execution_count": null,
      "outputs": []
    },
    {
      "cell_type": "markdown",
      "metadata": {
        "id": "sAeF5GvkV568"
      },
      "source": [
        "## Save the whole model"
      ]
    },
    {
      "cell_type": "code",
      "metadata": {
        "id": "c_dYP5j5V569"
      },
      "source": [
        "model_filepath = 'saved_model/model'\n",
        "model.save(model_filepath)"
      ],
      "execution_count": null,
      "outputs": []
    },
    {
      "cell_type": "markdown",
      "metadata": {
        "id": "c-syol5JV57C"
      },
      "source": [
        "## Load model"
      ]
    },
    {
      "cell_type": "code",
      "metadata": {
        "id": "6BnVqIkYV57D"
      },
      "source": [
        "from tensorflow.keras.models import load_model\n",
        "\n",
        "saved_model = load_model(model_filepath)"
      ],
      "execution_count": null,
      "outputs": []
    },
    {
      "cell_type": "markdown",
      "metadata": {
        "id": "5UJhA14UV57J"
      },
      "source": [
        "## Compare two models"
      ]
    },
    {
      "cell_type": "code",
      "metadata": {
        "id": "houcV6amV57K"
      },
      "source": [
        "new_model = get_new_model()\n",
        "saved_model = load_model(model_filepath)\n",
        "\n",
        "evaluate(new_model, x_test, y_test)\n",
        "evaluate(saved_model, x_test, y_test)"
      ],
      "execution_count": null,
      "outputs": []
    },
    {
      "cell_type": "markdown",
      "metadata": {
        "id": "YyP3WUKVV57Q"
      },
      "source": [
        "## Save only weights"
      ]
    },
    {
      "cell_type": "code",
      "metadata": {
        "id": "4ObxtEuVV57R"
      },
      "source": [
        "weights_filepath = 'saved_weights/model_weights'\n",
        "\n",
        "model.save_weights(weights_filepath)"
      ],
      "execution_count": null,
      "outputs": []
    },
    {
      "cell_type": "markdown",
      "metadata": {
        "id": "PQseBMdWV57W"
      },
      "source": [
        "## Load only weights\n",
        "must have model architecture predefined"
      ]
    },
    {
      "cell_type": "code",
      "metadata": {
        "id": "PutR3OPPV57X"
      },
      "source": [
        "model = get_new_model()\n",
        "model.load_weights(weights_filepath)"
      ],
      "execution_count": null,
      "outputs": []
    },
    {
      "cell_type": "markdown",
      "metadata": {
        "id": "ERX8cjDeV57b"
      },
      "source": [
        "## Compare two models"
      ]
    },
    {
      "cell_type": "code",
      "metadata": {
        "id": "ZoVaXSVeV57c"
      },
      "source": [
        "new_model = get_new_model()\n",
        "\n",
        "evaluate(new_model, x_test, y_test)\n",
        "evaluate(model, x_test, y_test)"
      ],
      "execution_count": null,
      "outputs": []
    }
  ]
}