{
  "nbformat": 4,
  "nbformat_minor": 0,
  "metadata": {
    "colab": {
      "name": "4_Autosave_with_ModelCheckpoint_callback.ipynb",
      "provenance": [],
      "collapsed_sections": [],
      "include_colab_link": true
    },
    "kernelspec": {
      "display_name": "Python 3",
      "language": "python",
      "name": "python3"
    },
    "language_info": {
      "codemirror_mode": {
        "name": "ipython",
        "version": 3
      },
      "file_extension": ".py",
      "mimetype": "text/x-python",
      "name": "python",
      "nbconvert_exporter": "python",
      "pygments_lexer": "ipython3",
      "version": "3.7.6"
    }
  },
  "cells": [
    {
      "cell_type": "markdown",
      "metadata": {
        "id": "view-in-github",
        "colab_type": "text"
      },
      "source": [
        "<a href=\"https://colab.research.google.com/github/Aye-Nyein-Thaw/TensorFlow-Beginner/blob/main/coding-exercise/week5/part1/4_Autosave_with_ModelCheckpoint_callback.ipynb\" target=\"_parent\"><img src=\"https://colab.research.google.com/assets/colab-badge.svg\" alt=\"Open In Colab\"/></a>"
      ]
    },
    {
      "cell_type": "markdown",
      "metadata": {
        "id": "V7MB-ZJQV67_"
      },
      "source": [
        "# Autosave with ModelCheckpoint callback"
      ]
    },
    {
      "cell_type": "code",
      "metadata": {
        "id": "FhHJcvK8QV4Y"
      },
      "source": [
        "import tensorflow as tf\n",
        "from tensorflow.keras.models import Sequential\n",
        "from tensorflow.keras.layers import Dense, Flatten, Conv2D, MaxPooling2D"
      ],
      "execution_count": null,
      "outputs": []
    },
    {
      "cell_type": "code",
      "metadata": {
        "id": "Jys8avkrV68G"
      },
      "source": [
        "# Prepare Data\n",
        "(x_train, y_train), (x_test, y_test) = tf.keras.datasets.cifar10.load_data()\n",
        "x_train = x_train / 255.0\n",
        "x_test = x_test / 255.0\n",
        "\n",
        "# Use smaller subset to speed things up\n",
        "x_train = x_train[:10000]\n",
        "y_train = y_train[:10000]\n",
        "x_test = x_test[:10000]\n",
        "y_test = y_test[:10000]\n",
        "\n",
        "# Define helper functions\n",
        "def evaluate(model, x_test, y_test):\n",
        "    test_loss, test_acc = model.evaluate(x=x_test, y=y_test, verbose=0)\n",
        "    print('accuracy = {acc:0.2f}%, Loss = {loss:0.2f}'.format(acc = test_acc * 100, loss = test_loss))\n",
        "    \n",
        "def get_new_model():\n",
        "    model = Sequential([\n",
        "        Conv2D(filters=16, input_shape=(32, 32, 3), kernel_size=(3, 3), \n",
        "               activation='relu', name='conv_1'),\n",
        "        Conv2D(filters=8, kernel_size=(3, 3), activation='relu', name='conv_2'),\n",
        "        MaxPooling2D(pool_size=(4, 4), name='pool_1'),\n",
        "        Flatten(name='flatten'),\n",
        "        Dense(units=32, activation='relu', name='dense_1'),\n",
        "        Dense(units=10, activation='softmax', name='dense_2')\n",
        "    ])\n",
        "    model.compile(optimizer='adam',\n",
        "                  loss='sparse_categorical_crossentropy',\n",
        "                  metrics=['accuracy'])\n",
        "    return model"
      ],
      "execution_count": null,
      "outputs": []
    },
    {
      "cell_type": "markdown",
      "metadata": {
        "id": "jszlaZUvV68M"
      },
      "source": [
        "# Model Checkpoint Callback"
      ]
    },
    {
      "cell_type": "code",
      "metadata": {
        "id": "rPA07ZBjV68N"
      },
      "source": [
        "from tensorflow.keras.callbacks import ModelCheckpoint"
      ],
      "execution_count": null,
      "outputs": []
    },
    {
      "cell_type": "code",
      "metadata": {
        "id": "Qvr2iNj8V68S"
      },
      "source": [
        "# save only weights at every epoch\n",
        "# overwrites everytime\n",
        "\n",
        "checkpoint_path = 'model_checkpoints/checkpoint'\n",
        "checkpoint = ModelCheckpoint(filepath = checkpoint_path,\n",
        "                            frequency = 'epoch',\n",
        "                            save_weights_only = True,\n",
        "                            verbose = 1)"
      ],
      "execution_count": null,
      "outputs": []
    },
    {
      "cell_type": "code",
      "metadata": {
        "id": "9NU1apEsV68X"
      },
      "source": [
        "# save only weights at every epoch\n",
        "# doesn't overwrite, new file everytime\n",
        "\n",
        "checkpoint_path = 'model_checkpoints/checkpoint_{epoch:02d}'\n",
        "epoch_checkpoint = ModelCheckpoint(filepath = checkpoint_path,\n",
        "                            frequency = 'epoch',\n",
        "                            save_weights_only = True,\n",
        "                            verbose = 1)"
      ],
      "execution_count": null,
      "outputs": []
    },
    {
      "cell_type": "code",
      "metadata": {
        "id": "2tSU8HRhV68c"
      },
      "source": [
        "# Save best model\n",
        "# monitor validation accuracy\n",
        "\n",
        "checkpoint_path = 'model_checkpoints/best_checkpoint'\n",
        "best_checkpoint = ModelCheckpoint(filepath = checkpoint_path,\n",
        "                            frequency = 'epoch',\n",
        "                            save_weights_only = True,\n",
        "                             \n",
        "                            save_best_only = True,\n",
        "                            monitor = 'val_accuracy',\n",
        "                             \n",
        "                            verbose = 1)"
      ],
      "execution_count": null,
      "outputs": []
    },
    {
      "cell_type": "code",
      "metadata": {
        "id": "H1G_3QANV68h"
      },
      "source": [
        "# Save entire model\n",
        "# Best model\n",
        "\n",
        "checkpoint_path = 'model_checkpoints/best_checkpoint_model'\n",
        "model_best_checkpoint = ModelCheckpoint(filepath = checkpoint_path,\n",
        "                            frequency = 'epoch',\n",
        "                            save_weights_only = False,\n",
        "                             \n",
        "                            save_best_only = True,\n",
        "                            monitor = 'val_accuracy',\n",
        "                             \n",
        "                            verbose = 1)"
      ],
      "execution_count": null,
      "outputs": []
    },
    {
      "cell_type": "code",
      "metadata": {
        "id": "Wb7ulMpJV68o"
      },
      "source": [
        "model = get_new_model()\n",
        "model.fit(x_train, y_train, epochs = 3, callbacks = [model_best_checkpoint], validation_data = (x_test, y_test))"
      ],
      "execution_count": null,
      "outputs": []
    },
    {
      "cell_type": "markdown",
      "metadata": {
        "id": "2jDUc9xkV68t"
      },
      "source": [
        "## Compare two models"
      ]
    },
    {
      "cell_type": "code",
      "metadata": {
        "id": "0cm2WfKmV68u"
      },
      "source": [
        "from tensorflow.keras.models import load_model\n",
        "\n",
        "trained_model = load_model('model_checkpoints/best_checkpoint_model')\n",
        "new_model = get_new_model()\n",
        "\n",
        "evaluate(trained_model, x_test, y_test)\n",
        "evaluate(new_model, x_test, y_test)"
      ],
      "execution_count": null,
      "outputs": []
    }
  ]
}