{
  "nbformat": 4,
  "nbformat_minor": 0,
  "metadata": {
    "colab": {
      "name": "4. Autosave with ModelCheckpoint callback.ipynb",
      "provenance": [],
      "include_colab_link": true
    },
    "kernelspec": {
      "display_name": "Python 3",
      "language": "python",
      "name": "python3"
    },
    "language_info": {
      "codemirror_mode": {
        "name": "ipython",
        "version": 3
      },
      "file_extension": ".py",
      "mimetype": "text/x-python",
      "name": "python",
      "nbconvert_exporter": "python",
      "pygments_lexer": "ipython3",
      "version": "3.7.6"
    }
  },
  "cells": [
    {
      "cell_type": "markdown",
      "metadata": {
        "id": "view-in-github",
        "colab_type": "text"
      },
      "source": [
        "<a href=\"https://colab.research.google.com/github/Aye-Nyein-Thaw/TensorFlow-Beginner/blob/main/coding-exercise/week%205/part1/4_Autosave_with_ModelCheckpoint_callback.ipynb\" target=\"_parent\"><img src=\"https://colab.research.google.com/assets/colab-badge.svg\" alt=\"Open In Colab\"/></a>"
      ]
    },
    {
      "cell_type": "markdown",
      "metadata": {
        "id": "V7MB-ZJQV67_"
      },
      "source": [
        "# Autosave with ModelCheckpoint callback"
      ]
    },
    {
      "cell_type": "code",
      "metadata": {
        "id": "FhHJcvK8QV4Y"
      },
      "source": [
        "import tensorflow as tf\n",
        "from tensorflow.keras.models import Sequential\n",
        "from tensorflow.keras.layers import Dense, Flatten, Conv2D, MaxPooling2D"
      ],
      "execution_count": null,
      "outputs": []
    },
    {
      "cell_type": "code",
      "metadata": {
        "id": "Jys8avkrV68G"
      },
      "source": [
        "# Prepare Data\n",
        "(x_train, y_train), (x_test, y_test) = tf.keras.datasets.cifar10.load_data()\n",
        "x_train = x_train / 255.0\n",
        "x_test = x_test / 255.0\n",
        "\n",
        "# Use smaller subset to speed things up\n",
        "x_train = x_train[:10000]\n",
        "y_train = y_train[:10000]\n",
        "x_test = x_test[:1000]\n",
        "y_test = y_test[:1000]\n",
        "\n",
        "# Define helper functions\n",
        "def evaluate(model, x_test, y_test):\n",
        "    test_loss, test_acc = model.evaluate(x=x_test, y=y_test, verbose=0)\n",
        "    print('accuracy = {acc:0.2f}%, Loss = {loss:0.2f}'.format(acc = test_acc * 100, loss = test_loss))\n",
        "    \n",
        "def get_new_model():\n",
        "    model = Sequential([\n",
        "        Conv2D(filters=16, input_shape=(32, 32, 3), kernel_size=(3, 3), \n",
        "               activation='relu', name='conv_1'),\n",
        "        Conv2D(filters=8, kernel_size=(3, 3), activation='relu', name='conv_2'),\n",
        "        MaxPooling2D(pool_size=(4, 4), name='pool_1'),\n",
        "        Flatten(name='flatten'),\n",
        "        Dense(units=32, activation='relu', name='dense_1'),\n",
        "        Dense(units=10, activation='softmax', name='dense_2')\n",
        "    ])\n",
        "    model.compile(optimizer='adam',\n",
        "                  loss='sparse_categorical_crossentropy',\n",
        "                  metrics=['accuracy'])\n",
        "    return model"
      ],
      "execution_count": null,
      "outputs": []
    },
    {
      "cell_type": "markdown",
      "metadata": {
        "id": "jszlaZUvV68M"
      },
      "source": [
        "# Model Checkpoint Callback"
      ]
    },
    {
      "cell_type": "code",
      "metadata": {
        "id": "rPA07ZBjV68N"
      },
      "source": [
        "from tensorflow.keras.callbacks import ModelCheckpoint"
      ],
      "execution_count": null,
      "outputs": []
    },
    {
      "cell_type": "code",
      "metadata": {
        "id": "Qvr2iNj8V68S"
      },
      "source": [
        "# save only weights at every epoch\n",
        "# overwrites everytime\n",
        "\n",
        "checkpoint_path = 'model_checkpoints/checkpoint'\n",
        "checkpoint = ModelCheckpoint(filepath = checkpoint_path,\n",
        "                            frequency = 'epoch',\n",
        "                            save_weights_only = True,\n",
        "                            verbose = 1)"
      ],
      "execution_count": null,
      "outputs": []
    },
    {
      "cell_type": "code",
      "metadata": {
        "id": "9NU1apEsV68X"
      },
      "source": [
        "# save only weights at every epoch\n",
        "# doesn't overwrite, new file everytime\n",
        "\n",
        "checkpoint_path = 'model_checkpoints/checkpoint_{epoch:02d}'\n",
        "epoch_checkpoint = ModelCheckpoint(filepath = checkpoint_path,\n",
        "                            frequency = 'epoch',\n",
        "                            save_weights_only = True,\n",
        "                            verbose = 1)"
      ],
      "execution_count": null,
      "outputs": []
    },
    {
      "cell_type": "code",
      "metadata": {
        "id": "2tSU8HRhV68c"
      },
      "source": [
        "# Save best model\n",
        "# monitor validation accuracy\n",
        "\n",
        "checkpoint_path = 'model_checkpoints/best_checkpoint'\n",
        "best_checkpoint = ModelCheckpoint(filepath = checkpoint_path,\n",
        "                            frequency = 'epoch',\n",
        "                            save_weights_only = True,\n",
        "                             \n",
        "                            save_best_only = True,\n",
        "                            monitor = 'val_accuracy',\n",
        "                             \n",
        "                            verbose = 1)"
      ],
      "execution_count": null,
      "outputs": []
    },
    {
      "cell_type": "code",
      "metadata": {
        "id": "H1G_3QANV68h"
      },
      "source": [
        "# Save entire model\n",
        "# Best model\n",
        "\n",
        "checkpoint_path = 'model_checkpoints/best_checkpoint_model'\n",
        "model_best_checkpoint = ModelCheckpoint(filepath = checkpoint_path,\n",
        "                            frequency = 'epoch',\n",
        "                            save_weights_only = False,\n",
        "                             \n",
        "                            save_best_only = True,\n",
        "                            monitor = 'val_accuracy',\n",
        "                             \n",
        "                            verbose = 1)"
      ],
      "execution_count": null,
      "outputs": []
    },
    {
      "cell_type": "code",
      "metadata": {
        "collapsed": true,
        "id": "Wb7ulMpJV68o",
        "outputId": "a8747811-8373-497b-b5f2-9a5266b21e98"
      },
      "source": [
        "model = get_new_model()\n",
        "model.fit(x_train, y_train, epochs = 3, callbacks = [model_best_checkpoint], validation_data = (x_test, y_test))"
      ],
      "execution_count": null,
      "outputs": [
        {
          "output_type": "stream",
          "text": [
            "Epoch 1/3\n",
            "313/313 [==============================] - ETA: 0s - loss: 2.0149 - accuracy: 0.2462\n",
            "Epoch 00001: val_accuracy improved from -inf to 0.37000, saving model to model_checkpoints/best_checkpoint_model\n",
            "WARNING:tensorflow:From D:\\Programs\\Anaconda\\lib\\site-packages\\tensorflow\\python\\ops\\resource_variable_ops.py:1817: calling BaseResourceVariable.__init__ (from tensorflow.python.ops.resource_variable_ops) with constraint is deprecated and will be removed in a future version.\n",
            "Instructions for updating:\n",
            "If using Keras pass *_constraint arguments to layers.\n",
            "INFO:tensorflow:Assets written to: model_checkpoints/best_checkpoint_model\\assets\n",
            "313/313 [==============================] - 6s 21ms/step - loss: 2.0149 - accuracy: 0.2462 - val_loss: 1.7676 - val_accuracy: 0.3700\n",
            "Epoch 2/3\n",
            "310/313 [============================>.] - ETA: 0s - loss: 1.6301 - accuracy: 0.4111\n",
            "Epoch 00002: val_accuracy improved from 0.37000 to 0.44000, saving model to model_checkpoints/best_checkpoint_model\n",
            "INFO:tensorflow:Assets written to: model_checkpoints/best_checkpoint_model\\assets\n",
            "313/313 [==============================] - 6s 19ms/step - loss: 1.6310 - accuracy: 0.4108 - val_loss: 1.5676 - val_accuracy: 0.4400\n",
            "Epoch 3/3\n",
            "310/313 [============================>.] - ETA: 0s - loss: 1.4631 - accuracy: 0.4759\n",
            "Epoch 00003: val_accuracy improved from 0.44000 to 0.46700, saving model to model_checkpoints/best_checkpoint_model\n",
            "INFO:tensorflow:Assets written to: model_checkpoints/best_checkpoint_model\\assets\n",
            "313/313 [==============================] - 6s 19ms/step - loss: 1.4638 - accuracy: 0.4762 - val_loss: 1.4835 - val_accuracy: 0.4670\n"
          ],
          "name": "stdout"
        },
        {
          "output_type": "execute_result",
          "data": {
            "text/plain": [
              "<tensorflow.python.keras.callbacks.History at 0x14cb6c5a4c8>"
            ]
          },
          "metadata": {
            "tags": []
          },
          "execution_count": 11
        }
      ]
    },
    {
      "cell_type": "markdown",
      "metadata": {
        "id": "2jDUc9xkV68t"
      },
      "source": [
        "## Compare two models"
      ]
    },
    {
      "cell_type": "code",
      "metadata": {
        "collapsed": true,
        "id": "0cm2WfKmV68u",
        "outputId": "ad3c3b91-2352-4629-a72f-21c5b9a3cb5e"
      },
      "source": [
        "from tensorflow.keras.models import load_model\n",
        "\n",
        "trained_model = load_model('model_checkpoints/best_checkpoint_model')\n",
        "new_model = get_new_model()\n",
        "\n",
        "evaluate(trained_model, x_test, y_test)\n",
        "evaluate(new_model, x_test, y_test)"
      ],
      "execution_count": null,
      "outputs": [
        {
          "output_type": "stream",
          "text": [
            "accuracy = 46.70%, Loss = 1.48\n",
            "accuracy = 10.70%, Loss = 2.35\n"
          ],
          "name": "stdout"
        }
      ]
    }
  ]
}