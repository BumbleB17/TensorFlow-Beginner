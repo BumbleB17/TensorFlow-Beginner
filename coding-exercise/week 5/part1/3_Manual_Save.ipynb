{
  "nbformat": 4,
  "nbformat_minor": 0,
  "metadata": {
    "colab": {
      "name": "3. Manual Save.ipynb",
      "provenance": [],
      "include_colab_link": true
    },
    "kernelspec": {
      "display_name": "Python 3",
      "language": "python",
      "name": "python3"
    },
    "language_info": {
      "codemirror_mode": {
        "name": "ipython",
        "version": 3
      },
      "file_extension": ".py",
      "mimetype": "text/x-python",
      "name": "python",
      "nbconvert_exporter": "python",
      "pygments_lexer": "ipython3",
      "version": "3.7.6"
    }
  },
  "cells": [
    {
      "cell_type": "markdown",
      "metadata": {
        "id": "view-in-github",
        "colab_type": "text"
      },
      "source": [
        "<a href=\"https://colab.research.google.com/github/Aye-Nyein-Thaw/TensorFlow-Beginner/blob/main/coding-exercise/week%205/part1/3_Manual_Save.ipynb\" target=\"_parent\"><img src=\"https://colab.research.google.com/assets/colab-badge.svg\" alt=\"Open In Colab\"/></a>"
      ]
    },
    {
      "cell_type": "markdown",
      "metadata": {
        "id": "1bdIZSLBV56q"
      },
      "source": [
        "# Manual Save"
      ]
    },
    {
      "cell_type": "code",
      "metadata": {
        "id": "FhHJcvK8QV4Y"
      },
      "source": [
        "import tensorflow as tf\n",
        "from tensorflow.keras.models import Sequential\n",
        "from tensorflow.keras.layers import Dense, Flatten, Conv2D, MaxPooling2D"
      ],
      "execution_count": null,
      "outputs": []
    },
    {
      "cell_type": "code",
      "metadata": {
        "id": "dQw7Jk7YV56y"
      },
      "source": [
        "# Prepare Data\n",
        "(x_train, y_train), (x_test, y_test) = tf.keras.datasets.cifar10.load_data()\n",
        "x_train = x_train / 255.0\n",
        "x_test = x_test / 255.0\n",
        "\n",
        "# Use smaller subset to speed things up\n",
        "x_train = x_train[:10000]\n",
        "y_train = y_train[:10000]\n",
        "x_test = x_test[:1000]\n",
        "y_test = y_test[:1000]\n",
        "\n",
        "# Define helper functions\n",
        "def evaluate(model, x_test, y_test):\n",
        "    test_loss, test_acc = model.evaluate(x=x_test, y=y_test, verbose=0)\n",
        "    print('accuracy = {acc:0.2f}% , Loss = {loss:0.2f}'.format(acc = test_acc * 100, loss = test_loss))\n",
        "    \n",
        "def get_new_model():\n",
        "    model = Sequential([\n",
        "        Conv2D(filters=16, input_shape=(32, 32, 3), kernel_size=(3, 3), \n",
        "               activation='relu', name='conv_1'),\n",
        "        Conv2D(filters=8, kernel_size=(3, 3), activation='relu', name='conv_2'),\n",
        "        MaxPooling2D(pool_size=(4, 4), name='pool_1'),\n",
        "        Flatten(name='flatten'),\n",
        "        Dense(units=32, activation='relu', name='dense_1'),\n",
        "        Dense(units=10, activation='softmax', name='dense_2')\n",
        "    ])\n",
        "    model.compile(optimizer='adam',\n",
        "                  loss='sparse_categorical_crossentropy',\n",
        "                  metrics=['accuracy'])\n",
        "    return model"
      ],
      "execution_count": null,
      "outputs": []
    },
    {
      "cell_type": "code",
      "metadata": {
        "collapsed": true,
        "id": "XhXWYuomV563",
        "outputId": "2c5eaccc-1009-44c6-8edd-f167b6714f9d"
      },
      "source": [
        "model = get_new_model()\n",
        "model.summary()\n",
        "\n",
        "evaluate(model, x_test, y_test)\n",
        "\n",
        "history = model.fit(x_train, y_train, epochs = 10)"
      ],
      "execution_count": null,
      "outputs": [
        {
          "output_type": "stream",
          "text": [
            "Model: \"sequential_2\"\n",
            "_________________________________________________________________\n",
            "Layer (type)                 Output Shape              Param #   \n",
            "=================================================================\n",
            "conv_1 (Conv2D)              (None, 30, 30, 16)        448       \n",
            "_________________________________________________________________\n",
            "conv_2 (Conv2D)              (None, 28, 28, 8)         1160      \n",
            "_________________________________________________________________\n",
            "pool_1 (MaxPooling2D)        (None, 7, 7, 8)           0         \n",
            "_________________________________________________________________\n",
            "flatten (Flatten)            (None, 392)               0         \n",
            "_________________________________________________________________\n",
            "dense_1 (Dense)              (None, 32)                12576     \n",
            "_________________________________________________________________\n",
            "dense_2 (Dense)              (None, 10)                330       \n",
            "=================================================================\n",
            "Total params: 14,514\n",
            "Trainable params: 14,514\n",
            "Non-trainable params: 0\n",
            "_________________________________________________________________\n",
            "32/32 [==============================] - 0s 5ms/step - loss: 2.3226 - accuracy: 0.0890\n",
            "accuracy: 0.089\n",
            "Epoch 1/10\n",
            "313/313 [==============================] - 5s 17ms/step - loss: 1.9169 - accuracy: 0.2921\n",
            "Epoch 2/10\n",
            "313/313 [==============================] - 5s 17ms/step - loss: 1.6003 - accuracy: 0.4193\n",
            "Epoch 3/10\n",
            "313/313 [==============================] - 5s 18ms/step - loss: 1.4534 - accuracy: 0.4764\n",
            "Epoch 4/10\n",
            "313/313 [==============================] - 5s 17ms/step - loss: 1.3655 - accuracy: 0.5093\n",
            "Epoch 5/10\n",
            "313/313 [==============================] - 5s 17ms/step - loss: 1.3123 - accuracy: 0.5327\n",
            "Epoch 6/10\n",
            "313/313 [==============================] - 6s 18ms/step - loss: 1.2677 - accuracy: 0.5476\n",
            "Epoch 7/10\n",
            "313/313 [==============================] - 6s 18ms/step - loss: 1.2298 - accuracy: 0.5589\n",
            "Epoch 8/10\n",
            "313/313 [==============================] - 6s 18ms/step - loss: 1.1949 - accuracy: 0.5751\n",
            "Epoch 9/10\n",
            "313/313 [==============================] - 6s 18ms/step - loss: 1.1715 - accuracy: 0.5826\n",
            "Epoch 10/10\n",
            "313/313 [==============================] - 6s 18ms/step - loss: 1.1474 - accuracy: 0.5911\n"
          ],
          "name": "stdout"
        }
      ]
    },
    {
      "cell_type": "markdown",
      "metadata": {
        "id": "sAeF5GvkV568"
      },
      "source": [
        "## Save the whole model"
      ]
    },
    {
      "cell_type": "code",
      "metadata": {
        "id": "c_dYP5j5V569",
        "outputId": "13401ff2-f2ba-436c-808c-0bf2611de6ab"
      },
      "source": [
        "model_filepath = 'saved_model/model'\n",
        "model.save(model_filepath)"
      ],
      "execution_count": null,
      "outputs": [
        {
          "output_type": "stream",
          "text": [
            "INFO:tensorflow:Assets written to: saved_model/model\\assets\n"
          ],
          "name": "stdout"
        }
      ]
    },
    {
      "cell_type": "markdown",
      "metadata": {
        "id": "c-syol5JV57C"
      },
      "source": [
        "## Load model"
      ]
    },
    {
      "cell_type": "code",
      "metadata": {
        "id": "6BnVqIkYV57D"
      },
      "source": [
        "from tensorflow.keras.models import load_model\n",
        "\n",
        "saved_model = load_model(model_filepath)"
      ],
      "execution_count": null,
      "outputs": []
    },
    {
      "cell_type": "markdown",
      "metadata": {
        "id": "5UJhA14UV57J"
      },
      "source": [
        "## Compare two models"
      ]
    },
    {
      "cell_type": "code",
      "metadata": {
        "id": "houcV6amV57K",
        "outputId": "f9831a8d-2fae-473b-add6-cb0797bcf648"
      },
      "source": [
        "new_model = get_new_model()\n",
        "saved_model = load_model(model_filepath)\n",
        "\n",
        "evaluate(new_model, x_test, y_test)\n",
        "evaluate(saved_model, x_test, y_test)"
      ],
      "execution_count": null,
      "outputs": [
        {
          "output_type": "stream",
          "text": [
            "accuracy = 9.90%, Loss = 2.34\n",
            "accuracy = 56.40%, Loss = 1.28\n"
          ],
          "name": "stdout"
        }
      ]
    },
    {
      "cell_type": "markdown",
      "metadata": {
        "id": "YyP3WUKVV57Q"
      },
      "source": [
        "## Save only weights"
      ]
    },
    {
      "cell_type": "code",
      "metadata": {
        "id": "4ObxtEuVV57R"
      },
      "source": [
        "weights_filepath = 'saved_weights/model_weights'\n",
        "\n",
        "model.save_weights(weights_filepath)"
      ],
      "execution_count": null,
      "outputs": []
    },
    {
      "cell_type": "markdown",
      "metadata": {
        "id": "PQseBMdWV57W"
      },
      "source": [
        "## Load only weights\n",
        "must have model architecture predefined"
      ]
    },
    {
      "cell_type": "code",
      "metadata": {
        "id": "PutR3OPPV57X",
        "outputId": "5947cc2e-b234-407f-97c7-8e6317424290"
      },
      "source": [
        "model = get_new_model()\n",
        "model.load_weights(weights_filepath)"
      ],
      "execution_count": null,
      "outputs": [
        {
          "output_type": "execute_result",
          "data": {
            "text/plain": [
              "<tensorflow.python.training.tracking.util.CheckpointLoadStatus at 0x1704b213ec8>"
            ]
          },
          "metadata": {
            "tags": []
          },
          "execution_count": 31
        }
      ]
    },
    {
      "cell_type": "markdown",
      "metadata": {
        "id": "ERX8cjDeV57b"
      },
      "source": [
        "## Compare two models"
      ]
    },
    {
      "cell_type": "code",
      "metadata": {
        "collapsed": true,
        "id": "ZoVaXSVeV57c",
        "outputId": "8a79b90e-b23f-47e7-cc9c-82ea572d43b0"
      },
      "source": [
        "new_model = get_new_model()\n",
        "\n",
        "evaluate(new_model, x_test, y_test)\n",
        "evaluate(model, x_test, y_test)"
      ],
      "execution_count": null,
      "outputs": [
        {
          "output_type": "stream",
          "text": [
            "accuracy = 10.80%, Loss = 2.32\n",
            "accuracy = 56.40%, Loss = 1.28\n"
          ],
          "name": "stdout"
        }
      ]
    },
    {
      "cell_type": "code",
      "metadata": {
        "id": "NMLRy9b5V57h"
      },
      "source": [
        ""
      ],
      "execution_count": null,
      "outputs": []
    }
  ]
}