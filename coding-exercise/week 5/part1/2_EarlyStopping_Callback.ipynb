{
  "nbformat": 4,
  "nbformat_minor": 0,
  "metadata": {
    "colab": {
      "name": "2. EarlyStopping Callback.ipynb",
      "provenance": [],
      "include_colab_link": true
    },
    "kernelspec": {
      "display_name": "Python 3",
      "language": "python",
      "name": "python3"
    },
    "language_info": {
      "codemirror_mode": {
        "name": "ipython",
        "version": 3
      },
      "file_extension": ".py",
      "mimetype": "text/x-python",
      "name": "python",
      "nbconvert_exporter": "python",
      "pygments_lexer": "ipython3",
      "version": "3.7.6"
    }
  },
  "cells": [
    {
      "cell_type": "markdown",
      "metadata": {
        "id": "view-in-github",
        "colab_type": "text"
      },
      "source": [
        "<a href=\"https://colab.research.google.com/github/Aye-Nyein-Thaw/TensorFlow-Beginner/blob/main/coding-exercise/week%205/part1/2_EarlyStopping_Callback.ipynb\" target=\"_parent\"><img src=\"https://colab.research.google.com/assets/colab-badge.svg\" alt=\"Open In Colab\"/></a>"
      ]
    },
    {
      "cell_type": "markdown",
      "metadata": {
        "id": "TzeFhsNEV4cE"
      },
      "source": [
        "# EarlyStopping Callback"
      ]
    },
    {
      "cell_type": "code",
      "metadata": {
        "id": "FhHJcvK8QV4Y"
      },
      "source": [
        "import tensorflow as tf\n",
        "from tensorflow.keras.models import Sequential\n",
        "from tensorflow.keras.layers import Dense"
      ],
      "execution_count": null,
      "outputs": []
    },
    {
      "cell_type": "markdown",
      "metadata": {
        "id": "w40GmqR2V4cJ"
      },
      "source": [
        "## Load diabetes dataset"
      ]
    },
    {
      "cell_type": "code",
      "metadata": {
        "collapsed": true,
        "id": "HgqwcjKuV4cJ",
        "outputId": "9c76fb74-bbf6-4b05-f1f6-22ca8bea9a83"
      },
      "source": [
        "from sklearn.datasets import load_diabetes\n",
        "\n",
        "diabetes_dataset = load_diabetes()\n",
        "print(diabetes_dataset['DESCR'])\n",
        "\n",
        "data = diabetes_dataset['data']\n",
        "targets = diabetes_dataset['target']\n",
        "\n",
        "# Normalise the target data (this will make clearer training curves)\n",
        "targets = (targets - targets.mean(axis = 0)) / targets.std()\n",
        "\n",
        "# Split the data into train and test sets\n",
        "from sklearn.model_selection import train_test_split\n",
        "\n",
        "x_train, x_test, y_train, y_test = train_test_split(data, targets, test_size = 0.1)\n",
        "\n",
        "print(x_train.shape)\n",
        "print(x_test.shape)\n",
        "print(y_train.shape)\n",
        "print(y_test.shape)"
      ],
      "execution_count": null,
      "outputs": [
        {
          "output_type": "stream",
          "text": [
            ".. _diabetes_dataset:\n",
            "\n",
            "Diabetes dataset\n",
            "----------------\n",
            "\n",
            "Ten baseline variables, age, sex, body mass index, average blood\n",
            "pressure, and six blood serum measurements were obtained for each of n =\n",
            "442 diabetes patients, as well as the response of interest, a\n",
            "quantitative measure of disease progression one year after baseline.\n",
            "\n",
            "**Data Set Characteristics:**\n",
            "\n",
            "  :Number of Instances: 442\n",
            "\n",
            "  :Number of Attributes: First 10 columns are numeric predictive values\n",
            "\n",
            "  :Target: Column 11 is a quantitative measure of disease progression one year after baseline\n",
            "\n",
            "  :Attribute Information:\n",
            "      - Age\n",
            "      - Sex\n",
            "      - Body mass index\n",
            "      - Average blood pressure\n",
            "      - S1\n",
            "      - S2\n",
            "      - S3\n",
            "      - S4\n",
            "      - S5\n",
            "      - S6\n",
            "\n",
            "Note: Each of these 10 feature variables have been mean centered and scaled by the standard deviation times `n_samples` (i.e. the sum of squares of each column totals 1).\n",
            "\n",
            "Source URL:\n",
            "https://www4.stat.ncsu.edu/~boos/var.select/diabetes.html\n",
            "\n",
            "For more information see:\n",
            "Bradley Efron, Trevor Hastie, Iain Johnstone and Robert Tibshirani (2004) \"Least Angle Regression,\" Annals of Statistics (with discussion), 407-499.\n",
            "(https://web.stanford.edu/~hastie/Papers/LARS/LeastAngle_2002.pdf)\n",
            "(397, 10)\n",
            "(45, 10)\n",
            "(397,)\n",
            "(45,)\n"
          ],
          "name": "stdout"
        }
      ]
    },
    {
      "cell_type": "markdown",
      "metadata": {
        "id": "uEvu0hj8V4cN"
      },
      "source": [
        "## Define functions"
      ]
    },
    {
      "cell_type": "code",
      "metadata": {
        "id": "UwLJc3lAV4cO"
      },
      "source": [
        "# Define helper functions\n",
        "\n",
        "def evaluate(model, x_test, y_test):\n",
        "    test_loss, test_acc = model.evaluate(x=x_test, y=y_test, verbose=0)\n",
        "    print('accuracy = {acc:0.2f}%, Loss = {loss:0.2f}'.format(acc = test_acc * 100, loss = test_loss))\n",
        "    \n",
        "def get_new_model():\n",
        "    model = Sequential([\n",
        "        Dense(128, activation = 'relu', input_shape = (x_train.shape[1],)),\n",
        "        Dense(128, activation = 'relu'),\n",
        "        Dense(128, activation = 'relu'),\n",
        "        Dense(128, activation = 'relu'),\n",
        "        Dense(128, activation = 'relu'),\n",
        "        Dense(1)\n",
        "    ])\n",
        "    model.compile(optimizer='adam',\n",
        "                  loss='mse',\n",
        "                  metrics=['mae'])\n",
        "    return model"
      ],
      "execution_count": null,
      "outputs": []
    },
    {
      "cell_type": "markdown",
      "metadata": {
        "id": "bJ8ANbfYV4cR"
      },
      "source": [
        "## Train the model"
      ]
    },
    {
      "cell_type": "code",
      "metadata": {
        "collapsed": true,
        "id": "_EOcltOKV4cR",
        "outputId": "3d27757d-3ffa-43a1-81a4-cd7ad3087036"
      },
      "source": [
        "## Create new model and train\n",
        "model = get_new_model()\n",
        "\n",
        "history = model.fit(x_train, y_train,\n",
        "                    validation_data = (x_test, y_test),\n",
        "                    epochs = 100)"
      ],
      "execution_count": null,
      "outputs": [
        {
          "output_type": "stream",
          "text": [
            "Epoch 1/100\n",
            "13/13 [==============================] - 0s 24ms/step - loss: 0.9225 - mae: 0.8218 - val_loss: 0.9585 - val_mae: 0.8521\n",
            "Epoch 2/100\n",
            "13/13 [==============================] - 0s 5ms/step - loss: 0.6576 - mae: 0.6772 - val_loss: 0.4769 - val_mae: 0.5762\n",
            "Epoch 3/100\n",
            "13/13 [==============================] - 0s 5ms/step - loss: 0.5024 - mae: 0.5718 - val_loss: 0.5158 - val_mae: 0.6101\n",
            "Epoch 4/100\n",
            "13/13 [==============================] - 0s 5ms/step - loss: 0.4743 - mae: 0.5579 - val_loss: 0.4084 - val_mae: 0.5328\n",
            "Epoch 5/100\n",
            "13/13 [==============================] - 0s 5ms/step - loss: 0.4915 - mae: 0.5533 - val_loss: 0.4323 - val_mae: 0.5541\n",
            "Epoch 6/100\n",
            "13/13 [==============================] - 0s 10ms/step - loss: 0.4489 - mae: 0.5375 - val_loss: 0.4168 - val_mae: 0.5379\n",
            "Epoch 7/100\n",
            "13/13 [==============================] - 0s 5ms/step - loss: 0.4620 - mae: 0.5396 - val_loss: 0.4300 - val_mae: 0.5506\n",
            "Epoch 8/100\n",
            "13/13 [==============================] - 0s 5ms/step - loss: 0.4734 - mae: 0.5464 - val_loss: 0.4330 - val_mae: 0.5501\n",
            "Epoch 9/100\n",
            "13/13 [==============================] - 0s 5ms/step - loss: 0.4302 - mae: 0.5264 - val_loss: 0.4098 - val_mae: 0.5351\n",
            "Epoch 10/100\n",
            "13/13 [==============================] - 0s 5ms/step - loss: 0.4232 - mae: 0.5135 - val_loss: 0.4243 - val_mae: 0.5441\n",
            "Epoch 11/100\n",
            "13/13 [==============================] - 0s 5ms/step - loss: 0.4203 - mae: 0.5080 - val_loss: 0.4621 - val_mae: 0.5692\n",
            "Epoch 12/100\n",
            "13/13 [==============================] - 0s 5ms/step - loss: 0.4273 - mae: 0.5168 - val_loss: 0.4712 - val_mae: 0.5724\n",
            "Epoch 13/100\n",
            "13/13 [==============================] - 0s 5ms/step - loss: 0.4150 - mae: 0.5096 - val_loss: 0.4682 - val_mae: 0.5671\n",
            "Epoch 14/100\n",
            "13/13 [==============================] - 0s 5ms/step - loss: 0.4449 - mae: 0.5189 - val_loss: 0.5206 - val_mae: 0.5944\n",
            "Epoch 15/100\n",
            "13/13 [==============================] - 0s 5ms/step - loss: 0.4021 - mae: 0.5063 - val_loss: 0.4068 - val_mae: 0.5263\n",
            "Epoch 16/100\n",
            "13/13 [==============================] - 0s 5ms/step - loss: 0.3887 - mae: 0.4882 - val_loss: 0.4117 - val_mae: 0.5276\n",
            "Epoch 17/100\n",
            "13/13 [==============================] - 0s 5ms/step - loss: 0.4144 - mae: 0.5092 - val_loss: 0.4392 - val_mae: 0.5518\n",
            "Epoch 18/100\n",
            "13/13 [==============================] - 0s 5ms/step - loss: 0.3981 - mae: 0.5031 - val_loss: 0.4313 - val_mae: 0.5505\n",
            "Epoch 19/100\n",
            "13/13 [==============================] - 0s 5ms/step - loss: 0.3733 - mae: 0.4815 - val_loss: 0.4262 - val_mae: 0.5381\n",
            "Epoch 20/100\n",
            "13/13 [==============================] - 0s 5ms/step - loss: 0.3748 - mae: 0.4841 - val_loss: 0.4218 - val_mae: 0.5407\n",
            "Epoch 21/100\n",
            "13/13 [==============================] - 0s 5ms/step - loss: 0.3829 - mae: 0.4833 - val_loss: 0.4347 - val_mae: 0.5513\n",
            "Epoch 22/100\n",
            "13/13 [==============================] - 0s 5ms/step - loss: 0.4156 - mae: 0.5243 - val_loss: 0.4237 - val_mae: 0.5351\n",
            "Epoch 23/100\n",
            "13/13 [==============================] - 0s 5ms/step - loss: 0.3917 - mae: 0.4855 - val_loss: 0.4735 - val_mae: 0.5721\n",
            "Epoch 24/100\n",
            "13/13 [==============================] - 0s 6ms/step - loss: 0.3527 - mae: 0.4683 - val_loss: 0.4420 - val_mae: 0.5503\n",
            "Epoch 25/100\n",
            "13/13 [==============================] - 0s 5ms/step - loss: 0.3361 - mae: 0.4579 - val_loss: 0.4571 - val_mae: 0.5641\n",
            "Epoch 26/100\n",
            "13/13 [==============================] - 0s 4ms/step - loss: 0.3323 - mae: 0.4514 - val_loss: 0.4784 - val_mae: 0.5808\n",
            "Epoch 27/100\n",
            "13/13 [==============================] - 0s 4ms/step - loss: 0.3329 - mae: 0.4560 - val_loss: 0.4475 - val_mae: 0.5433\n",
            "Epoch 28/100\n",
            "13/13 [==============================] - ETA: 0s - loss: 0.4513 - mae: 0.529 - 0s 4ms/step - loss: 0.3522 - mae: 0.4706 - val_loss: 0.4883 - val_mae: 0.5524\n",
            "Epoch 29/100\n",
            "13/13 [==============================] - 0s 5ms/step - loss: 0.3148 - mae: 0.4440 - val_loss: 0.4616 - val_mae: 0.5542\n",
            "Epoch 30/100\n",
            "13/13 [==============================] - 0s 5ms/step - loss: 0.2969 - mae: 0.4296 - val_loss: 0.5023 - val_mae: 0.5718\n",
            "Epoch 31/100\n",
            "13/13 [==============================] - 0s 4ms/step - loss: 0.3002 - mae: 0.4250 - val_loss: 0.4577 - val_mae: 0.5633\n",
            "Epoch 32/100\n",
            "13/13 [==============================] - 0s 4ms/step - loss: 0.3059 - mae: 0.4402 - val_loss: 0.4719 - val_mae: 0.5702\n",
            "Epoch 33/100\n",
            "13/13 [==============================] - 0s 4ms/step - loss: 0.2785 - mae: 0.4093 - val_loss: 0.4999 - val_mae: 0.5784\n",
            "Epoch 34/100\n",
            "13/13 [==============================] - 0s 4ms/step - loss: 0.2786 - mae: 0.4126 - val_loss: 0.5087 - val_mae: 0.5928\n",
            "Epoch 35/100\n",
            "13/13 [==============================] - 0s 4ms/step - loss: 0.2845 - mae: 0.4203 - val_loss: 0.4781 - val_mae: 0.5440\n",
            "Epoch 36/100\n",
            "13/13 [==============================] - 0s 4ms/step - loss: 0.2658 - mae: 0.4046 - val_loss: 0.5148 - val_mae: 0.5890\n",
            "Epoch 37/100\n",
            "13/13 [==============================] - 0s 4ms/step - loss: 0.2564 - mae: 0.3896 - val_loss: 0.4962 - val_mae: 0.5640\n",
            "Epoch 38/100\n",
            "13/13 [==============================] - 0s 4ms/step - loss: 0.2395 - mae: 0.3813 - val_loss: 0.4626 - val_mae: 0.5446\n",
            "Epoch 39/100\n",
            "13/13 [==============================] - 0s 4ms/step - loss: 0.2360 - mae: 0.3751 - val_loss: 0.4919 - val_mae: 0.5789\n",
            "Epoch 40/100\n",
            "13/13 [==============================] - 0s 4ms/step - loss: 0.2345 - mae: 0.3844 - val_loss: 0.5696 - val_mae: 0.5785\n",
            "Epoch 41/100\n",
            "13/13 [==============================] - 0s 4ms/step - loss: 0.2051 - mae: 0.3554 - val_loss: 0.5574 - val_mae: 0.5842\n",
            "Epoch 42/100\n",
            "13/13 [==============================] - 0s 4ms/step - loss: 0.2006 - mae: 0.3462 - val_loss: 0.4878 - val_mae: 0.5484\n",
            "Epoch 43/100\n",
            "13/13 [==============================] - 0s 4ms/step - loss: 0.1860 - mae: 0.3289 - val_loss: 0.5235 - val_mae: 0.5653\n",
            "Epoch 44/100\n",
            "13/13 [==============================] - 0s 4ms/step - loss: 0.2041 - mae: 0.3567 - val_loss: 0.6063 - val_mae: 0.6014\n",
            "Epoch 45/100\n",
            "13/13 [==============================] - 0s 4ms/step - loss: 0.2243 - mae: 0.3707 - val_loss: 0.4979 - val_mae: 0.5505\n",
            "Epoch 46/100\n",
            "13/13 [==============================] - 0s 4ms/step - loss: 0.2018 - mae: 0.3452 - val_loss: 0.5356 - val_mae: 0.5747\n",
            "Epoch 47/100\n",
            "13/13 [==============================] - 0s 4ms/step - loss: 0.1476 - mae: 0.2959 - val_loss: 0.6123 - val_mae: 0.6038\n",
            "Epoch 48/100\n",
            "13/13 [==============================] - 0s 4ms/step - loss: 0.1405 - mae: 0.2885 - val_loss: 0.6131 - val_mae: 0.6001\n",
            "Epoch 49/100\n",
            "13/13 [==============================] - 0s 4ms/step - loss: 0.1381 - mae: 0.2850 - val_loss: 0.5587 - val_mae: 0.5973\n",
            "Epoch 50/100\n",
            "13/13 [==============================] - 0s 4ms/step - loss: 0.1245 - mae: 0.2735 - val_loss: 0.6433 - val_mae: 0.6111\n",
            "Epoch 51/100\n",
            "13/13 [==============================] - 0s 4ms/step - loss: 0.1493 - mae: 0.2976 - val_loss: 0.5696 - val_mae: 0.6101\n",
            "Epoch 52/100\n",
            "13/13 [==============================] - 0s 4ms/step - loss: 0.1244 - mae: 0.2752 - val_loss: 0.6145 - val_mae: 0.6268\n",
            "Epoch 53/100\n",
            "13/13 [==============================] - 0s 4ms/step - loss: 0.1188 - mae: 0.2563 - val_loss: 0.5619 - val_mae: 0.5750\n",
            "Epoch 54/100\n",
            "13/13 [==============================] - 0s 4ms/step - loss: 0.1156 - mae: 0.2622 - val_loss: 0.5629 - val_mae: 0.6001\n",
            "Epoch 55/100\n",
            "13/13 [==============================] - 0s 4ms/step - loss: 0.1141 - mae: 0.2603 - val_loss: 0.6374 - val_mae: 0.6352\n",
            "Epoch 56/100\n",
            "13/13 [==============================] - 0s 4ms/step - loss: 0.1036 - mae: 0.2511 - val_loss: 0.5782 - val_mae: 0.5928\n",
            "Epoch 57/100\n",
            "13/13 [==============================] - 0s 4ms/step - loss: 0.0986 - mae: 0.2416 - val_loss: 0.5944 - val_mae: 0.6155\n",
            "Epoch 58/100\n",
            "13/13 [==============================] - 0s 4ms/step - loss: 0.1072 - mae: 0.2504 - val_loss: 0.5898 - val_mae: 0.6124\n",
            "Epoch 59/100\n",
            "13/13 [==============================] - 0s 4ms/step - loss: 0.0980 - mae: 0.2430 - val_loss: 0.6443 - val_mae: 0.6291\n",
            "Epoch 60/100\n",
            "13/13 [==============================] - 0s 4ms/step - loss: 0.0889 - mae: 0.2281 - val_loss: 0.5719 - val_mae: 0.5914\n",
            "Epoch 61/100\n",
            "13/13 [==============================] - 0s 4ms/step - loss: 0.0913 - mae: 0.2290 - val_loss: 0.6029 - val_mae: 0.6044\n",
            "Epoch 62/100\n",
            "13/13 [==============================] - 0s 4ms/step - loss: 0.0920 - mae: 0.2325 - val_loss: 0.5877 - val_mae: 0.5913\n"
          ],
          "name": "stdout"
        },
        {
          "output_type": "stream",
          "text": [
            "Epoch 63/100\n",
            "13/13 [==============================] - 0s 4ms/step - loss: 0.0772 - mae: 0.2126 - val_loss: 0.6040 - val_mae: 0.6169\n",
            "Epoch 64/100\n",
            "13/13 [==============================] - 0s 4ms/step - loss: 0.0777 - mae: 0.2126 - val_loss: 0.5511 - val_mae: 0.5902\n",
            "Epoch 65/100\n",
            "13/13 [==============================] - 0s 4ms/step - loss: 0.0707 - mae: 0.2069 - val_loss: 0.6068 - val_mae: 0.6145\n",
            "Epoch 66/100\n",
            "13/13 [==============================] - 0s 4ms/step - loss: 0.0788 - mae: 0.2123 - val_loss: 0.6018 - val_mae: 0.6051\n",
            "Epoch 67/100\n",
            "13/13 [==============================] - 0s 4ms/step - loss: 0.0696 - mae: 0.2004 - val_loss: 0.5970 - val_mae: 0.6115\n",
            "Epoch 68/100\n",
            "13/13 [==============================] - 0s 4ms/step - loss: 0.0702 - mae: 0.2011 - val_loss: 0.6108 - val_mae: 0.6030\n",
            "Epoch 69/100\n",
            "13/13 [==============================] - 0s 4ms/step - loss: 0.0557 - mae: 0.1762 - val_loss: 0.6560 - val_mae: 0.6352\n",
            "Epoch 70/100\n",
            "13/13 [==============================] - 0s 4ms/step - loss: 0.0642 - mae: 0.1925 - val_loss: 0.5920 - val_mae: 0.5995\n",
            "Epoch 71/100\n",
            "13/13 [==============================] - 0s 4ms/step - loss: 0.0576 - mae: 0.1836 - val_loss: 0.6176 - val_mae: 0.6116\n",
            "Epoch 72/100\n",
            "13/13 [==============================] - 0s 4ms/step - loss: 0.0515 - mae: 0.1749 - val_loss: 0.6462 - val_mae: 0.6393\n",
            "Epoch 73/100\n",
            "13/13 [==============================] - 0s 4ms/step - loss: 0.0509 - mae: 0.1682 - val_loss: 0.7658 - val_mae: 0.7060\n",
            "Epoch 74/100\n",
            "13/13 [==============================] - 0s 4ms/step - loss: 0.0765 - mae: 0.2156 - val_loss: 0.6566 - val_mae: 0.6460\n",
            "Epoch 75/100\n",
            "13/13 [==============================] - 0s 4ms/step - loss: 0.0695 - mae: 0.1964 - val_loss: 0.7094 - val_mae: 0.6835\n",
            "Epoch 76/100\n",
            "13/13 [==============================] - 0s 4ms/step - loss: 0.0819 - mae: 0.2181 - val_loss: 0.6359 - val_mae: 0.6336\n",
            "Epoch 77/100\n",
            "13/13 [==============================] - 0s 4ms/step - loss: 0.0687 - mae: 0.2030 - val_loss: 0.6590 - val_mae: 0.6569\n",
            "Epoch 78/100\n",
            "13/13 [==============================] - 0s 4ms/step - loss: 0.0679 - mae: 0.2014 - val_loss: 0.6320 - val_mae: 0.6249\n",
            "Epoch 79/100\n",
            "13/13 [==============================] - 0s 4ms/step - loss: 0.0785 - mae: 0.2128 - val_loss: 0.6455 - val_mae: 0.6240\n",
            "Epoch 80/100\n",
            "13/13 [==============================] - 0s 5ms/step - loss: 0.0587 - mae: 0.1847 - val_loss: 0.6608 - val_mae: 0.6299\n",
            "Epoch 81/100\n",
            "13/13 [==============================] - 0s 4ms/step - loss: 0.0516 - mae: 0.1754 - val_loss: 0.6625 - val_mae: 0.6215\n",
            "Epoch 82/100\n",
            "13/13 [==============================] - 0s 4ms/step - loss: 0.0508 - mae: 0.1714 - val_loss: 0.6752 - val_mae: 0.6334\n",
            "Epoch 83/100\n",
            "13/13 [==============================] - 0s 4ms/step - loss: 0.0563 - mae: 0.1826 - val_loss: 0.6308 - val_mae: 0.6121\n",
            "Epoch 84/100\n",
            "13/13 [==============================] - 0s 4ms/step - loss: 0.0494 - mae: 0.1673 - val_loss: 0.6347 - val_mae: 0.6142\n",
            "Epoch 85/100\n",
            "13/13 [==============================] - 0s 4ms/step - loss: 0.0394 - mae: 0.1502 - val_loss: 0.6682 - val_mae: 0.6374\n",
            "Epoch 86/100\n",
            "13/13 [==============================] - 0s 4ms/step - loss: 0.0358 - mae: 0.1413 - val_loss: 0.6413 - val_mae: 0.6304\n",
            "Epoch 87/100\n",
            "13/13 [==============================] - 0s 4ms/step - loss: 0.0302 - mae: 0.1277 - val_loss: 0.6804 - val_mae: 0.6378\n",
            "Epoch 88/100\n",
            "13/13 [==============================] - 0s 5ms/step - loss: 0.0390 - mae: 0.1456 - val_loss: 0.6687 - val_mae: 0.6368\n",
            "Epoch 89/100\n",
            "13/13 [==============================] - 0s 5ms/step - loss: 0.0421 - mae: 0.1590 - val_loss: 0.6194 - val_mae: 0.6270\n",
            "Epoch 90/100\n",
            "13/13 [==============================] - 0s 4ms/step - loss: 0.0340 - mae: 0.1420 - val_loss: 0.6401 - val_mae: 0.6240\n",
            "Epoch 91/100\n",
            "13/13 [==============================] - 0s 4ms/step - loss: 0.0410 - mae: 0.1588 - val_loss: 0.6839 - val_mae: 0.6410\n",
            "Epoch 92/100\n",
            "13/13 [==============================] - 0s 4ms/step - loss: 0.0364 - mae: 0.1447 - val_loss: 0.6548 - val_mae: 0.6350\n",
            "Epoch 93/100\n",
            "13/13 [==============================] - 0s 4ms/step - loss: 0.0301 - mae: 0.1343 - val_loss: 0.6373 - val_mae: 0.6138\n",
            "Epoch 94/100\n",
            "13/13 [==============================] - 0s 4ms/step - loss: 0.0354 - mae: 0.1457 - val_loss: 0.6948 - val_mae: 0.6458\n",
            "Epoch 95/100\n",
            "13/13 [==============================] - 0s 4ms/step - loss: 0.0323 - mae: 0.1396 - val_loss: 0.7131 - val_mae: 0.6543\n",
            "Epoch 96/100\n",
            "13/13 [==============================] - 0s 4ms/step - loss: 0.0387 - mae: 0.1544 - val_loss: 0.7130 - val_mae: 0.6643\n",
            "Epoch 97/100\n",
            "13/13 [==============================] - 0s 4ms/step - loss: 0.0303 - mae: 0.1319 - val_loss: 0.6637 - val_mae: 0.6424\n",
            "Epoch 98/100\n",
            "13/13 [==============================] - 0s 4ms/step - loss: 0.0280 - mae: 0.1289 - val_loss: 0.6583 - val_mae: 0.6444\n",
            "Epoch 99/100\n",
            "13/13 [==============================] - 0s 5ms/step - loss: 0.0262 - mae: 0.1227 - val_loss: 0.7201 - val_mae: 0.6622\n",
            "Epoch 100/100\n",
            "13/13 [==============================] - 0s 4ms/step - loss: 0.0467 - mae: 0.1652 - val_loss: 0.6370 - val_mae: 0.6246\n"
          ],
          "name": "stdout"
        }
      ]
    },
    {
      "cell_type": "markdown",
      "metadata": {
        "id": "_Gz-T4wXV4cY"
      },
      "source": [
        "## Plot the learning curves"
      ]
    },
    {
      "cell_type": "code",
      "metadata": {
        "id": "eK18G2pWV4cZ",
        "outputId": "e16bedc6-dcc6-49ac-996a-fc37c9b64840"
      },
      "source": [
        "import matplotlib.pyplot as plt\n",
        "%matplotlib inline\n",
        "\n",
        "plt.plot(history.history['loss'])\n",
        "plt.plot(history.history['val_loss'])\n",
        "plt.title('Loss vs. epochs')\n",
        "plt.ylabel('Loss')\n",
        "plt.xlabel('Epoch')\n",
        "plt.legend(['Training', 'Validation'], loc='upper right')\n",
        "plt.show()"
      ],
      "execution_count": null,
      "outputs": [
        {
          "output_type": "display_data",
          "data": {
            "image/png": "[encoded data removed]",
            "text/plain": [
              "<Figure size 432x288 with 1 Axes>"
            ]
          },
          "metadata": {
            "tags": [],
            "needs_background": "light"
          }
        }
      ]
    },
    {
      "cell_type": "markdown",
      "metadata": {
        "id": "tzo7AImqV4cc"
      },
      "source": [
        "## Early Stopping callback"
      ]
    },
    {
      "cell_type": "code",
      "metadata": {
        "id": "M05veB-cV4cd"
      },
      "source": [
        "from tensorflow.keras.callbacks import EarlyStopping\n",
        "\n",
        "es_callback = EarlyStopping(patience = 2,\n",
        "                           monitor = 'val_loss')"
      ],
      "execution_count": null,
      "outputs": []
    },
    {
      "cell_type": "code",
      "metadata": {
        "collapsed": true,
        "id": "-qbzrMITV4cg",
        "outputId": "e9203735-652a-48d5-a612-8a0c6ee89311"
      },
      "source": [
        "## Create new model and train\n",
        "model = get_new_model()\n",
        "\n",
        "history = model.fit(x_train, y_train,\n",
        "                    validation_data = (x_test, y_test),\n",
        "                    epochs = 100,\n",
        "                   callbacks = [es_callback])"
      ],
      "execution_count": null,
      "outputs": [
        {
          "output_type": "stream",
          "text": [
            "Epoch 1/100\n",
            "13/13 [==============================] - 0s 10ms/step - loss: 0.9202 - mae: 0.8192 - val_loss: 0.9517 - val_mae: 0.8440\n",
            "Epoch 2/100\n",
            "13/13 [==============================] - 0s 4ms/step - loss: 0.6385 - mae: 0.6640 - val_loss: 0.4627 - val_mae: 0.5577\n",
            "Epoch 3/100\n",
            "13/13 [==============================] - 0s 4ms/step - loss: 0.5660 - mae: 0.6059 - val_loss: 0.4629 - val_mae: 0.5788\n",
            "Epoch 4/100\n",
            "13/13 [==============================] - 0s 4ms/step - loss: 0.4864 - mae: 0.5621 - val_loss: 0.4259 - val_mae: 0.5467\n",
            "Epoch 5/100\n",
            "13/13 [==============================] - 0s 4ms/step - loss: 0.4772 - mae: 0.5474 - val_loss: 0.4334 - val_mae: 0.5526\n",
            "Epoch 6/100\n",
            "13/13 [==============================] - 0s 5ms/step - loss: 0.4680 - mae: 0.5506 - val_loss: 0.4149 - val_mae: 0.5312\n",
            "Epoch 7/100\n",
            "13/13 [==============================] - 0s 4ms/step - loss: 0.4607 - mae: 0.5469 - val_loss: 0.4194 - val_mae: 0.5428\n",
            "Epoch 8/100\n",
            "13/13 [==============================] - 0s 4ms/step - loss: 0.4576 - mae: 0.5368 - val_loss: 0.4770 - val_mae: 0.5682\n"
          ],
          "name": "stdout"
        }
      ]
    }
  ]
}